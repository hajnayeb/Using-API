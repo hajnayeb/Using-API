{
  "nbformat": 4,
  "nbformat_minor": 0,
  "metadata": {
    "kernelspec": {
      "display_name": "Python 3",
      "language": "python",
      "name": "python3"
    },
    "language_info": {
      "codemirror_mode": {
        "name": "ipython",
        "version": 3
      },
      "file_extension": ".py",
      "mimetype": "text/x-python",
      "name": "python",
      "nbconvert_exporter": "python",
      "pygments_lexer": "ipython3",
      "version": "3.7.9"
    },
    "colab": {
      "name": "Translate_API.ipynb",
      "provenance": [],
      "include_colab_link": true
    }
  },
  "cells": [
    {
      "cell_type": "markdown",
      "metadata": {
        "id": "view-in-github",
        "colab_type": "text"
      },
      "source": [
        "<a href=\"https://colab.research.google.com/github/hajnayeb/Using-API/blob/main/Translate_API.ipynb\" target=\"_parent\"><img src=\"https://colab.research.google.com/assets/colab-badge.svg\" alt=\"Open In Colab\"/></a>"
      ]
    },
    {
      "cell_type": "code",
      "metadata": {
        "id": "t-pIQ9geZJfa"
      },
      "source": [
        "# This project is an example of scripting a speech and translating it to another language:"
      ],
      "execution_count": null,
      "outputs": []
    },
    {
      "cell_type": "code",
      "metadata": {
        "id": "cGkwbyT0ZJfi",
        "outputId": "1de4cf2e-c67d-4c54-b065-f84e98379e03"
      },
      "source": [
        "# we install Speech Recognition API, which supports several APIs\n",
        "!pip install SpeechRecognition"
      ],
      "execution_count": null,
      "outputs": [
        {
          "output_type": "stream",
          "text": [
            "Requirement already satisfied: SpeechRecognition in c:\\users\\hajnayeb\\anaconda3\\envs\\tf2\\lib\\site-packages (3.8.1)\n"
          ],
          "name": "stdout"
        }
      ]
    },
    {
      "cell_type": "code",
      "metadata": {
        "id": "BALZGy7_ZJfk"
      },
      "source": [
        "#importing the necessary library:\n",
        "import speech_recognition as sr\n",
        "# Initializing r\n",
        "r = sr.Recognizer()"
      ],
      "execution_count": null,
      "outputs": []
    },
    {
      "cell_type": "code",
      "metadata": {
        "id": "DM-n3RtlZJfk",
        "outputId": "88d38ce9-9ec6-49c5-9b14-b0b454010b44"
      },
      "source": [
        "# Reading an Audio file on the computer and storing it in audio_text variable\n",
        "print('Please, wait ...')\n",
        "with sr.AudioFile('male.wav') as source:\n",
        "    dig_text = r.listen(source)\n",
        "    try:\n",
        "        # using google speech recognition\n",
        "        text = r.recognize_google(dig_text)\n",
        "        print('This is the transcript:')\n",
        "        print(text) \n",
        "    except:\n",
        "         print('Sorry.. check and run again...')"
      ],
      "execution_count": null,
      "outputs": [
        {
          "output_type": "stream",
          "text": [
            "Please, wait ...\n",
            "This is the transcript:\n",
            "what if somebody decides to break it be careful that you keep adequate coverage but look for places to save money baby it's taking longer to get things squared away than the bankers expected during the Y for once company may win her tax-favored retirement income eggs are hers latest on the two naked bone do when the title of this type of song is in question there's no denying or waxing or gasoline needed maybe personalized on back while Clay is leather hard work on a flat surface and smooth out the simplest kind of separate system uses a single self-contained unit the old shop added still holds a good mechanic is usually a bad boss 12 figures would go higher in later years doll houses at set\n"
          ],
          "name": "stdout"
        }
      ]
    },
    {
      "cell_type": "code",
      "metadata": {
        "id": "HNDkEgplZJfl",
        "outputId": "8124928c-7764-4df2-909e-fe5077b88256"
      },
      "source": [
        "!pip install google_trans_new\n",
        "from google_trans_new import google_translator  "
      ],
      "execution_count": null,
      "outputs": [
        {
          "output_type": "stream",
          "text": [
            "Requirement already satisfied: google_trans_new in c:\\users\\hajnayeb\\anaconda3\\envs\\tf2\\lib\\site-packages (1.1.9)\n"
          ],
          "name": "stdout"
        }
      ]
    },
    {
      "cell_type": "code",
      "metadata": {
        "id": "O2ersscoZJfl",
        "outputId": "06c4543c-291c-4233-e73c-94fbdc6acbc1"
      },
      "source": [
        "translator = google_translator()\n",
        "translation = translator.translate(text,'zh-cn')\n",
        "print(translation)\n"
      ],
      "execution_count": null,
      "outputs": [
        {
          "output_type": "stream",
          "text": [
            "如果有人决定打破它要注意，你会保持足够的覆盖率，而是寻找拯救金钱的地方，它需要更长的时间来获得比在Y期间的银行家在y公司中赢得她的税收的退休收入鸡蛋 Hers最新在两个裸体骨头上做这种类型的歌曲的标题是否则的否定或打蜡或汽油所需的或汽油可能是个性化的，而粘土是在平坦表面上的皮革艰苦工作，并将最简单的单独系统平滑 使用一个独立的单位旧商店添加仍然拥有一个好的机修工通常是一个糟糕的老板12个数字将在后来几年娃娃房子套装 \n"
          ],
          "name": "stdout"
        }
      ]
    },
    {
      "cell_type": "code",
      "metadata": {
        "id": "7K9mDPTZZJfm"
      },
      "source": [
        ""
      ],
      "execution_count": null,
      "outputs": []
    }
  ]
}